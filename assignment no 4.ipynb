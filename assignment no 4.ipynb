{
 "cells": [
  {
   "cell_type": "markdown",
   "id": "d93ff2c7",
   "metadata": {},
   "source": [
    "Question no 1:\n",
    "The empty list value, which is a list value that contains no items. This is \n",
    "similar to how '' is the empty string value."
   ]
  },
  {
   "cell_type": "markdown",
   "id": "369e5b58",
   "metadata": {},
   "source": [
    "Question 2:\n",
    "spam[2] = 'hello' "
   ]
  },
  {
   "cell_type": "markdown",
   "id": "ec9d13da",
   "metadata": {},
   "source": [
    "Question 3:\n",
    "ans:'d'\n",
    "this '3' * 2 is the string '33', which is passed to int() before \n",
    "being divided by 11. This eventually evaluates to 3"
   ]
  },
  {
   "cell_type": "markdown",
   "id": "db22e1ac",
   "metadata": {},
   "source": [
    "Question 4:\n",
    "ans: 'd' index count from end\n",
    "    "
   ]
  },
  {
   "cell_type": "markdown",
   "id": "4b31bec8",
   "metadata": {},
   "source": [
    "Question 5:\n",
    "    \n",
    "['a','b']"
   ]
  },
  {
   "cell_type": "markdown",
   "id": "7619382f",
   "metadata": {},
   "source": [
    "Question 6:\n",
    "Ans:1"
   ]
  },
  {
   "cell_type": "markdown",
   "id": "de71c136",
   "metadata": {},
   "source": [
    "Question 7:\n",
    "[3.14, 'cat', 11, 'cat', True, 99]"
   ]
  },
  {
   "cell_type": "markdown",
   "id": "dc066b1b",
   "metadata": {},
   "source": [
    "Question 8:\n",
    "[3.14, 11, 'cat', True]"
   ]
  },
  {
   "cell_type": "markdown",
   "id": "c5105107",
   "metadata": {},
   "source": [
    "Question 9:\n",
    "The operator for list concatenation is +, while the operator for replication is *"
   ]
  },
  {
   "cell_type": "markdown",
   "id": "58e4c602",
   "metadata": {},
   "source": [
    "Question no 10:\n",
    "While append() will add values only to the end of a list, insert() can add \n",
    "them anywhere in the list"
   ]
  },
  {
   "cell_type": "markdown",
   "id": "b5fd841a",
   "metadata": {},
   "source": [
    "Question no 11:\n",
    "The del statement and the remove() list method are two ways to remove \n",
    "values from a list"
   ]
  },
  {
   "cell_type": "markdown",
   "id": "9b7a0e5e",
   "metadata": {},
   "source": [
    "Question 12:\n",
    "Both lists and strings can be passed to len(), have indexes and slices, be \n",
    "used in for loops, be concatenated or replicated, and be used with the \n",
    "in and not in operators."
   ]
  },
  {
   "cell_type": "markdown",
   "id": "791baf7d",
   "metadata": {},
   "source": [
    "Question 13:\n",
    "Lists are mutable; they can have values added, removed, or changed. \n",
    "Tuples are immutable; they cannot be changed at all. Also, tuples are \n",
    "written using parentheses, ( and ), while lists use the square brackets, \n",
    "[ and ]"
   ]
  },
  {
   "cell_type": "markdown",
   "id": "7be37acc",
   "metadata": {},
   "source": [
    "Question 14:\n",
    "ans: (42)"
   ]
  },
  {
   "cell_type": "markdown",
   "id": "2b22c493",
   "metadata": {},
   "source": [
    "Question 15:\n",
    "The tuple() and list() functions, respectively"
   ]
  },
  {
   "cell_type": "markdown",
   "id": "4e53c451",
   "metadata": {},
   "source": [
    "Question 16:\n",
    " They contain references to list values."
   ]
  },
  {
   "cell_type": "markdown",
   "id": "63906571",
   "metadata": {},
   "source": [
    "Question 17:\n",
    "The copy.copy() function will do a shallow copy of a list, while the \n",
    "copy.deepcopy() function will do a deep copy of a list. That is, only copy \n",
    ".deepcopy() will duplicate any lists inside the list"
   ]
  }
 ],
 "metadata": {
  "kernelspec": {
   "display_name": "Python 3 (ipykernel)",
   "language": "python",
   "name": "python3"
  },
  "language_info": {
   "codemirror_mode": {
    "name": "ipython",
    "version": 3
   },
   "file_extension": ".py",
   "mimetype": "text/x-python",
   "name": "python",
   "nbconvert_exporter": "python",
   "pygments_lexer": "ipython3",
   "version": "3.9.7"
  }
 },
 "nbformat": 4,
 "nbformat_minor": 5
}

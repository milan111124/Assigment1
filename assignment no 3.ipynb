{
 "cells": [
  {
   "cell_type": "raw",
   "id": "0b26a3ae",
   "metadata": {},
   "source": [
    "Question :1\n",
    "    \n",
    "Functions reduce the need for duplicate code. This makes programs shorter, easier to read, and easier to update. \n",
    "The main advantage of functions is code Reusability."
   ]
  },
  {
   "cell_type": "raw",
   "id": "1a53aa80",
   "metadata": {},
   "source": [
    "Question no:2\n",
    "\n",
    "The code in a function executes when the function is called, not when the function is specified."
   ]
  },
  {
   "cell_type": "raw",
   "id": "db282446",
   "metadata": {},
   "source": [
    "Question no3:\n",
    "The def statement defines a function.\n",
    "example:\n",
    "    def test(a,b):\n",
    "        return a+b"
   ]
  },
  {
   "cell_type": "raw",
   "id": "041df006",
   "metadata": {},
   "source": [
    "Question no:4\n",
    "A function is procedure to achieve a particular result. while function call is using this function to achive that task.\n",
    "Using a function to do a particular task any point in program is called as function call."
   ]
  },
  {
   "cell_type": "raw",
   "id": "75bbae66",
   "metadata": {},
   "source": [
    "Question no:5\n",
    "There is one global scope, and a local scope is created whenever a function is called."
   ]
  },
  {
   "cell_type": "raw",
   "id": "13544d7c",
   "metadata": {},
   "source": [
    "Question no.6\n",
    "When a function returns, the local scope is destroyed, and all the variables in it are forgotten."
   ]
  },
  {
   "cell_type": "raw",
   "id": "3522d2c6",
   "metadata": {},
   "source": [
    "Question no:7\n",
    "A return value is the value that a function call evaluates to. Like any \n",
    "value, a return value can be used as part of an expression."
   ]
  },
  {
   "cell_type": "raw",
   "id": "10ddd120",
   "metadata": {},
   "source": [
    "Question no:8\n",
    "If there is no return statement for a function, its return value is None."
   ]
  },
  {
   "cell_type": "raw",
   "id": "883a4211",
   "metadata": {},
   "source": [
    "Qusrtion no:9\n",
    "A global statement will force a variable in a function to refer to the \n",
    "global variable"
   ]
  },
  {
   "cell_type": "raw",
   "id": "34f3c5ef",
   "metadata": {},
   "source": [
    "Question no:10\n",
    "A global statement will force a variable in a function to refer to the \n",
    "global variable"
   ]
  },
  {
   "cell_type": "raw",
   "id": "9c450372",
   "metadata": {},
   "source": [
    "Question no:11\n",
    "That import statement imports a module named areallyourpetsnamederic."
   ]
  },
  {
   "cell_type": "raw",
   "id": "27ce0f7d",
   "metadata": {},
   "source": [
    "Question no:12\n",
    "This function can be called with spam.bacon()"
   ]
  },
  {
   "cell_type": "raw",
   "id": "af51b95a",
   "metadata": {},
   "source": [
    "Question no:13\n",
    "Place the line of code that might cause an error in a try clause and use except block to handle the error."
   ]
  },
  {
   "cell_type": "raw",
   "id": "eecaabc3",
   "metadata": {},
   "source": [
    "Question no:14\n",
    "The code that could potentially cause an error goes in the try clause. \n",
    "The code that executes if an error happens goes in the except clause"
   ]
  }
 ],
 "metadata": {
  "kernelspec": {
   "display_name": "Python 3 (ipykernel)",
   "language": "python",
   "name": "python3"
  },
  "language_info": {
   "codemirror_mode": {
    "name": "ipython",
    "version": 3
   },
   "file_extension": ".py",
   "mimetype": "text/x-python",
   "name": "python",
   "nbconvert_exporter": "python",
   "pygments_lexer": "ipython3",
   "version": "3.9.7"
  }
 },
 "nbformat": 4,
 "nbformat_minor": 5
}

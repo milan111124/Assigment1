{
 "cells": [
  {
   "cell_type": "code",
   "execution_count": null,
   "id": "1ba1510f",
   "metadata": {},
   "outputs": [],
   "source": [
    "Question no.1\n",
    "* - expression\n",
    "'hello'-values\n",
    "-87.8 -values\n",
    "-  -expression\n",
    "/  -expression\n",
    "+  -expression\n",
    "6  -values"
   ]
  },
  {
   "cell_type": "code",
   "execution_count": 1,
   "id": "0226c3b2",
   "metadata": {},
   "outputs": [],
   "source": [
    "question no .2\n",
    "# String is a data type.string is a sequence of characters enclosed in quotes. Where as variable is the name given to memory location in a program\n"
   ]
  },
  {
   "cell_type": "code",
   "execution_count": null,
   "id": "5562ae6c",
   "metadata": {},
   "outputs": [],
   "source": [
    "Question no.3\n",
    "# Three data tpyes:\n",
    "# 1) string - string is a sequence of characters enclosed in quotes\n",
    "# 2) boolean- The boolean data type stores TRUE or FALSE data values as a single byte.you can compare two BOOLEAN values to test for equality or inequality.\n",
    "# 3) integer- The integer data type stores whole numbers."
   ]
  },
  {
   "cell_type": "code",
   "execution_count": null,
   "id": "037f6084",
   "metadata": {},
   "outputs": [],
   "source": [
    "Question no.4\n",
    "# Expression is a combination of values, variables and operators calls to funtions. expressions need to be evaluated.interpreter evaluates the expression and display the results. "
   ]
  },
  {
   "cell_type": "code",
   "execution_count": null,
   "id": "12fe4750",
   "metadata": {},
   "outputs": [],
   "source": [
    "Question no.5\n",
    "#Expressions is a combination of values, variables and operators calls to funtions.\n",
    "#Statement is an instruction that the python interpreter can execute."
   ]
  },
  {
   "cell_type": "code",
   "execution_count": 3,
   "id": "20760eb3",
   "metadata": {},
   "outputs": [
    {
     "data": {
      "text/plain": [
       "23"
      ]
     },
     "execution_count": 3,
     "metadata": {},
     "output_type": "execute_result"
    }
   ],
   "source": [
    "#Question no.6\n",
    "bacon = 22\n",
    "bacon + 1"
   ]
  },
  {
   "cell_type": "code",
   "execution_count": 4,
   "id": "e3693265",
   "metadata": {},
   "outputs": [
    {
     "data": {
      "text/plain": [
       "22"
      ]
     },
     "execution_count": 4,
     "metadata": {},
     "output_type": "execute_result"
    }
   ],
   "source": [
    "# question 6 ans-\n",
    "bacon"
   ]
  },
  {
   "cell_type": "code",
   "execution_count": 5,
   "id": "4f984992",
   "metadata": {},
   "outputs": [
    {
     "data": {
      "text/plain": [
       "'spamspamspam'"
      ]
     },
     "execution_count": 5,
     "metadata": {},
     "output_type": "execute_result"
    }
   ],
   "source": [
    "# question no.7\n",
    "# ans- Same vaules of both\n",
    "'spam'+\"spamspam\"\n",
    "\"spam\"*3"
   ]
  },
  {
   "cell_type": "code",
   "execution_count": 6,
   "id": "776119e4",
   "metadata": {},
   "outputs": [
    {
     "data": {
      "text/plain": [
       "'spamspamspam'"
      ]
     },
     "execution_count": 6,
     "metadata": {},
     "output_type": "execute_result"
    }
   ],
   "source": [
    "\"spam\"*3"
   ]
  },
  {
   "cell_type": "code",
   "execution_count": null,
   "id": "7edeb5c6",
   "metadata": {},
   "outputs": [],
   "source": [
    "Question n0.8\n",
    "# variable name cannot begin with number"
   ]
  },
  {
   "cell_type": "code",
   "execution_count": null,
   "id": "6ceafa0d",
   "metadata": {},
   "outputs": [],
   "source": [
    "Question no.9\n",
    "# type() function"
   ]
  },
  {
   "cell_type": "code",
   "execution_count": null,
   "id": "bf429b59",
   "metadata": {},
   "outputs": [],
   "source": [
    "Question 10.\n",
    "# 'I have eaten' + 99 +  'burritos' this expresssion casuse error because the 99 is an integer we cannot concante integer type with string.\n",
    "# solution - we need to convert integer into string str(99)"
   ]
  }
 ],
 "metadata": {
  "kernelspec": {
   "display_name": "Python 3 (ipykernel)",
   "language": "python",
   "name": "python3"
  },
  "language_info": {
   "codemirror_mode": {
    "name": "ipython",
    "version": 3
   },
   "file_extension": ".py",
   "mimetype": "text/x-python",
   "name": "python",
   "nbconvert_exporter": "python",
   "pygments_lexer": "ipython3",
   "version": "3.9.7"
  }
 },
 "nbformat": 4,
 "nbformat_minor": 5
}

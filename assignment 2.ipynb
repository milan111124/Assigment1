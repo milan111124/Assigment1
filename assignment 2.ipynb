{
 "cells": [
  {
   "cell_type": "markdown",
   "id": "51f241c7",
   "metadata": {},
   "source": [
    "Question no :1\n",
    "Two Boolean data types are:\n",
    "    1. True\n",
    "    2. False\n",
    "    \n",
    "    1. True == 1\n",
    "    2. False == 0\n",
    "We can evaluate any expression in python and get one of the two answers: True or False\n",
    "#Example:\n",
    "print(10>9)\n",
    "    \n",
    "True\n",
    "print(11<9)\n",
    "False"
   ]
  },
  {
   "cell_type": "markdown",
   "id": "536242be",
   "metadata": {},
   "source": [
    "Question no:2\n",
    "    Three different types of boolean operators are:\n",
    "        1. and\n",
    "        2. or\n",
    "        3. not\n"
   ]
  },
  {
   "cell_type": "markdown",
   "id": "bafe310f",
   "metadata": {},
   "source": [
    "Quesrtion no:3\n",
    "True == 1 and False == 0\n",
    "     x  y  x or y\n",
    "     0  0     0     \n",
    "     0  1     1\n",
    "     1  0     1\n",
    "     1  1     1\n",
    "     \n",
    "     x  y  x and y\n",
    "     0  0     0     \n",
    "     0  1     0\n",
    "     1  0     0\n",
    "     1  1     1"
   ]
  },
  {
   "cell_type": "markdown",
   "id": "573ba6c5",
   "metadata": {},
   "source": [
    "Question no:4\n",
    "(5 > 4) and (3 == 5)--> False\n",
    "not(5>4)--> False\n",
    "(5>4)or(3==5)--> True\n",
    "not ((5 > 4) or (3 == 5))--> False\n",
    "(True and True) and (True == False)--> False\n",
    "(not False) or (not True)--> True\n"
   ]
  },
  {
   "cell_type": "markdown",
   "id": "51d4d82f",
   "metadata": {},
   "source": [
    "Question no:5\n",
    "\n",
    "    Comparison operators are as follows:\n",
    "    1. <  greater than\n",
    "    2. >  less than\n",
    "    3. <= less than equal to\n",
    "    4. >= greater than equal to\n",
    "    5. == equal to\n",
    "    6. != not equal to\n"
   ]
  },
  {
   "cell_type": "raw",
   "id": "6394f72c",
   "metadata": {},
   "source": [
    "Question no:6\n",
    "    condition and when you would use one.\n",
    "\n",
    "== is equal to i.e double = sign\n",
    "= is assignment operator\n",
    "\n",
    "for example:\n",
    "# Assignment operator example\n",
    "a = 10\n",
    "b = 10  \n",
    "\n",
    "# Equal to operator example\n",
    "if a==b:\n",
    "    print(True)\n",
    "True"
   ]
  },
  {
   "cell_type": "markdown",
   "id": "40b83be7",
   "metadata": {},
   "source": [
    "Question:7\n",
    "spam = 0  \n",
    "if spam == 10:  \n",
    "    print('eggs')  # block #1\n",
    "if spam > 5:  \n",
    "    print('bacon')  # block #2\n",
    "else:  \n",
    "    print('ham')  # block #3\n",
    "print('spam')  \n",
    "print('spam')\n",
    "ham\n",
    "spam\n",
    "spam"
   ]
  },
  {
   "cell_type": "code",
   "execution_count": 10,
   "id": "6f34ca69",
   "metadata": {},
   "outputs": [
    {
     "name": "stdout",
     "output_type": "stream",
     "text": [
      "3\n",
      "Greetings\n"
     ]
    }
   ],
   "source": [
    "#Question no:8\n",
    "spam=int(input())\n",
    "if spam==1:\n",
    "        print('Hello')\n",
    "elif spam==2:\n",
    "        print('Howdy')\n",
    "else:\n",
    "    print('Greetings')\n",
    "\n",
    "\n"
   ]
  },
  {
   "cell_type": "markdown",
   "id": "21cab16f",
   "metadata": {},
   "source": [
    "Question no :9\n",
    "Press Ctrl-c to stop a program stuck in an infinite loop"
   ]
  },
  {
   "cell_type": "markdown",
   "id": "03222cb7",
   "metadata": {},
   "source": [
    "Question no:10\n",
    "    Break:\n",
    "1)The break statement is used to terminate the loop or statement in which it is present.\n",
    "After that, the control will pass to the statements that are present after the break statement, if available.\n",
    "2)If the break statement is present in the nested loop, then it terminates only those loops which contains break statement.\n",
    "    Continue:\n",
    "Continue is also a loop control statement just like the break statement. \n",
    "continue statement is opposite to that of break statement, instead of terminating the loop, it forces to execute the next iteration of the loop."
   ]
  },
  {
   "cell_type": "markdown",
   "id": "24735bd0",
   "metadata": {},
   "source": [
    "Question no:11\n",
    "The Differences are as follows:\n",
    "\n",
    "The range(10) call range from 0 to 9 (but not include 10)\n",
    "The range (0,10) explicitly tells the loop to start at 0\n",
    "The range(0,10,1) explicitly tells the loop to increase the variable by 1 on each iteration"
   ]
  },
  {
   "cell_type": "code",
   "execution_count": 12,
   "id": "2f21344b",
   "metadata": {},
   "outputs": [
    {
     "name": "stdout",
     "output_type": "stream",
     "text": [
      "0\n",
      "1\n",
      "2\n",
      "3\n",
      "4\n",
      "5\n",
      "6\n",
      "7\n",
      "8\n",
      "9\n",
      "10\n"
     ]
    }
   ],
   "source": [
    "#Question 12\n",
    "for i in range(11):\n",
    "    print(i)"
   ]
  },
  {
   "cell_type": "code",
   "execution_count": 16,
   "id": "e90bc162",
   "metadata": {},
   "outputs": [
    {
     "name": "stdout",
     "output_type": "stream",
     "text": [
      "1\n",
      "2\n",
      "3\n",
      "4\n",
      "5\n",
      "6\n",
      "7\n",
      "8\n",
      "9\n",
      "10\n"
     ]
    }
   ],
   "source": [
    "#Question no:12\n",
    "a=1\n",
    "while a<=10:\n",
    "    print(a)\n",
    "    a=a+1\n",
    "    \n",
    "    "
   ]
  },
  {
   "cell_type": "markdown",
   "id": "de0d75f5",
   "metadata": {},
   "source": [
    "Question no :13\n",
    "This function can be called with spam.bacon()\n"
   ]
  }
 ],
 "metadata": {
  "kernelspec": {
   "display_name": "Python 3 (ipykernel)",
   "language": "python",
   "name": "python3"
  },
  "language_info": {
   "codemirror_mode": {
    "name": "ipython",
    "version": 3
   },
   "file_extension": ".py",
   "mimetype": "text/x-python",
   "name": "python",
   "nbconvert_exporter": "python",
   "pygments_lexer": "ipython3",
   "version": "3.9.7"
  }
 },
 "nbformat": 4,
 "nbformat_minor": 5
}
